{
 "cells": [
  {
   "cell_type": "markdown",
   "metadata": {},
   "source": [
    "### Planning a telescope observation\n",
    "\n",
    "\n",
    "Let's build your first Markov Chain! \n",
    "\n",
    "You are a real astronomer (not a theory guy like me) and are planning an expensive observational campaign. You want to know how likely it is that tomorrow night will be clear given the weather tonight (clear or cloudy). The key piece of information here is that the weather tomorrow depends on the weather today. From past history, you know that:\n",
    "\n",
    "$$p({\\rm clear \\; tomorrow} \\, |\\,  {\\rm cloudy \\; today}) = 0.5,$$\n",
    "\n",
    "which means that\n",
    "\n",
    "$$p({\\rm cloudy \\; tomorrow} \\, |\\, {\\rm cloudy \\; today}) = 0.5.$$\n",
    "\n",
    "We also have\n",
    "\n",
    "$$p({\\rm cloudy \\; tomorrow} \\, |\\, {\\rm clear \\; today}) = 0.1,$$\n",
    "\n",
    "which means that\n",
    "\n",
    "$$p({\\rm clear \\; tomorrow} \\, |\\, {\\rm clear \\; today}) = 0.9.$$\n",
    "\n",
    "\n",
    "- We can start with the sky conditions today and make predictions going forward more and more into the future.\n",
    "- This will look like a big decision tree. \n",
    "- After enough days, we'll reach equilibrium probabilities that have to do with the mean weather statistics (ignoring seasons) and we'll arrive at\n",
    "\n",
    "$$p({\\rm clear}) = 0.83,$$\n",
    "\n",
    "and \n",
    "\n",
    "$$p({\\rm cloudy}) = 0.17.$$\n",
    "\n",
    "You get the same answer for day $N$ as day $N+1$ and it doesn't matter whether it was clear or cloudy on the day that you started. The steps that we have taken in this process are, indeed, a **MARKOV CHAIN**.\n",
    "\n",
    "Here is an illustration of this process from an article in [towarddatascience.com](https://towardsdatascience.com/introduction-to-markov-chains-50da3645a50d).\n",
    "\n",
    "![image.png](https://miro.medium.com/max/416/1*frksGjINf5oTjx7WL81U3w.png)\n",
    "\n",
    "#### Tasks\n",
    "\n",
    "- Start off on a cloud day. \n",
    "- Implement your weather forecast based on the above probabilities\n",
    "- Run your simulator for N days (with $N\\gtrsim 10^4$)\n",
    "- Prepare a plot with the number of days on the x axis and the cumulative fraction of, say, sunny days over the number of days so far on the y axis. This is called a **trace-plot**, showing how our estimate of $p(\\mathrm{clear})$ evolves as the chain samples.  \n",
    "- Prepare a histogram of the above plot. This reveals the distribution of $p(\\mathrm{clear})$.\n",
    "- Use a summary statistics to determine the most likely value and an error on our estimate.\n",
    "\n",
    "**Important:** \n",
    "- In MCMC the process must be **stationary** which basically means that the chain statistics look the same no matter which chunk you look at, e.g. first half, second half, or every other point, etc.  \n",
    "- Obviously that isn't going to be the case in the early steps of the chain. In our example above, after some time the process was stationary, but not in the first few days.\n",
    "- So, there is a **burn-in** phase that needs to be discarded. How one determines the number of early steps to discard as burn-in is tricky, but ***you should always start with a traceplot of your samples!***\n",
    "\n",
    "\n",
    "#### Tasks\n",
    "\n",
    "- In the above example, experiment with chopping off different numbers of initial points as burn-in.\n",
    "\n",
    "\n",
    "#### More\n",
    "\n",
    "- Redo the same for the Markovian process describing the stock market (see above in this notebook). If you've written your code well, this should require minor modifications."
   ]
  },
  {
   "cell_type": "code",
   "execution_count": 1,
   "metadata": {},
   "outputs": [],
   "source": [
    "import matplotlib.pyplot as plt\n",
    "import numpy as np\n",
    "from astroML import stats as astroMLstats\n",
    "from sklearn.neighbors import KernelDensity\n",
    "\n"
   ]
  },
  {
   "cell_type": "code",
   "execution_count": 4,
   "metadata": {},
   "outputs": [],
   "source": [
    "sunny = 1\n",
    "cloudy = 0\n",
    "N = 10**4"
   ]
  },
  {
   "cell_type": "markdown",
   "metadata": {},
   "source": [
    "\n",
    "$$p({\\rm clear \\; tomorrow} \\, |\\,  {\\rm cloudy \\; today}) = 0.5,$$\n",
    "\n",
    "\n",
    "$$p({\\rm cloudy \\; tomorrow} \\, |\\, {\\rm cloudy \\; today}) = 0.5.$$\n",
    "\n",
    "\n",
    "$$p({\\rm cloudy \\; tomorrow} \\, |\\, {\\rm clear \\; today}) = 0.1,$$\n",
    "\n",
    "\n",
    "$$p({\\rm clear \\; tomorrow} \\, |\\, {\\rm clear \\; today}) = 0.9.$$\n",
    "\n"
   ]
  },
  {
   "cell_type": "code",
   "execution_count": 5,
   "metadata": {},
   "outputs": [],
   "source": [
    "def weather_forecast (weather):\n",
    "    if (weather_current == sunny):\n",
    "        p_cloudy = 0.1\n",
    "        p_sunny = 0.9\n",
    "    else :\n",
    "        p_cloudy = 0.5\n",
    "        p_sunny = 0.5\n",
    "    return p_sunny\n",
    "\n",
    "\n",
    "def probability (weather):\n",
    "    prob = random.uniform(0, 1, 1)\n",
    "    \n",
    "    if (prob < weather_forecast(weather)):\n",
    "        chain.append\n"
   ]
  },
  {
   "cell_type": "code",
   "execution_count": 7,
   "metadata": {},
   "outputs": [],
   "source": [
    "weather_current = sunny\n",
    "\n",
    "for i in N:\n",
    "    proposal = np.random.choice([0,1])\n",
    "    \n",
    "\n",
    "    prob_current = weather_forecast(weather_current)\n",
    "    prob_proposal = weather_forecast(weather_proposal)\n",
    "    \n",
    "    \n",
    "    p_accept = p_proposal / p_current\n",
    "        \n",
    "\n",
    "    accept = np.random.rand() < p_accept\n",
    "\n",
    "    if plot:\n",
    "        plot_proposal(mu_current, mu_proposal, mu_prior_mu, \n",
    "                      mu_prior_sd, data, accept, posterior, i)\n",
    "\n",
    "    if accept:\n",
    "        # Update position\n",
    "        mu_current = mu_proposal\n",
    "\n",
    "    posterior.append(mu_current)  #add again the same point\n",
    "        "
   ]
  },
  {
   "cell_type": "code",
   "execution_count": null,
   "metadata": {},
   "outputs": [],
   "source": []
  }
 ],
 "metadata": {
  "kernelspec": {
   "display_name": "Python 3",
   "language": "python",
   "name": "python3"
  },
  "language_info": {
   "codemirror_mode": {
    "name": "ipython",
    "version": 3
   },
   "file_extension": ".py",
   "mimetype": "text/x-python",
   "name": "python",
   "nbconvert_exporter": "python",
   "pygments_lexer": "ipython3",
   "version": "3.7.3"
  }
 },
 "nbformat": 4,
 "nbformat_minor": 2
}
