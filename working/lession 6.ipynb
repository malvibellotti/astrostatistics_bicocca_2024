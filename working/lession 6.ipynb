{
 "cells": [
  {
   "cell_type": "code",
   "execution_count": 32,
   "metadata": {},
   "outputs": [],
   "source": [
    "import numpy as np\n",
    "import sklearn\n",
    "from sklearn.mixture import GaussianMixture\n",
    "import matplotlib.pyplot as plt\n",
    "\n",
    "#import sys\n",
    "#!{sys.executable} -m pip install scikit-learn\n"
   ]
  },
  {
   "cell_type": "code",
   "execution_count": 33,
   "metadata": {},
   "outputs": [
    {
     "data": {
      "text/plain": [
       "(array([  1.,   2.,   1.,   4.,   3.,   5.,   4.,  12.,  14.,  17.,  28.,\n",
       "         15.,  29.,  30.,  29.,  29.,  25.,  21.,  25.,  16.,  12.,  11.,\n",
       "         28.,  74., 216., 243., 137.,  60.,  79.,  97.,  95., 122., 135.,\n",
       "        144., 150., 163., 165., 139., 120., 115.,  83.,  71.,  52.,  51.,\n",
       "         27.,  23.,  12.,   6.,   3.,   4.,   1.,   0.,   1.,   1.]),\n",
       " array([-4.96542500e+00, -3.97159779e+00, -2.97777057e+00, -1.98394336e+00,\n",
       "        -9.90116147e-01,  3.71106587e-03,  9.97538279e-01,  1.99136549e+00,\n",
       "         2.98519271e+00,  3.97901992e+00,  4.97284713e+00,  5.96667435e+00,\n",
       "         6.96050156e+00,  7.95432877e+00,  8.94815599e+00,  9.94198320e+00,\n",
       "         1.09358104e+01,  1.19296376e+01,  1.29234648e+01,  1.39172921e+01,\n",
       "         1.49111193e+01,  1.59049465e+01,  1.68987737e+01,  1.78926009e+01,\n",
       "         1.88864281e+01,  1.98802553e+01,  2.08740825e+01,  2.18679098e+01,\n",
       "         2.28617370e+01,  2.38555642e+01,  2.48493914e+01,  2.58432186e+01,\n",
       "         2.68370458e+01,  2.78308730e+01,  2.88247003e+01,  2.98185275e+01,\n",
       "         3.08123547e+01,  3.18061819e+01,  3.28000091e+01,  3.37938363e+01,\n",
       "         3.47876635e+01,  3.57814907e+01,  3.67753180e+01,  3.77691452e+01,\n",
       "         3.87629724e+01,  3.97567996e+01,  4.07506268e+01,  4.17444540e+01,\n",
       "         4.27382812e+01,  4.37321085e+01,  4.47259357e+01,  4.57197629e+01,\n",
       "         4.67135901e+01,  4.77074173e+01,  4.87012445e+01]),\n",
       " <BarContainer object of 54 artists>)"
      ]
     },
     "execution_count": 33,
     "metadata": {},
     "output_type": "execute_result"
    },
    {
     "data": {
      "image/png": "[encoded data removed]",
      "text/plain": [
       "<Figure size 432x288 with 1 Axes>"
      ]
     },
     "metadata": {
      "needs_background": "light"
     },
     "output_type": "display_data"
    }
   ],
   "source": [
    "data = np.load(\"formationchannels.npy\")\n",
    "#print(data)\n",
    "plt.hist(data, int(len(data)**0.5))"
   ]
  },
  {
   "cell_type": "markdown",
   "metadata": {},
   "source": [
    "## vai a vederti https://scikit-learn.org/stable/modules/generated/sklearn.mixture.GaussianMixture.html !!"
   ]
  },
  {
   "cell_type": "code",
   "execution_count": 38,
   "metadata": {},
   "outputs": [
    {
     "name": "stdout",
     "output_type": "stream",
     "text": [
      "GaussianMixture(n_components=2, random_state=0)\n"
     ]
    }
   ],
   "source": [
    "gm = GaussianMixture(n_components=2, random_state=0).fit(data)\n",
    "print(gm)\n",
    "\n"
   ]
  },
  {
   "cell_type": "code",
   "execution_count": null,
   "metadata": {},
   "outputs": [],
   "source": []
  },
  {
   "cell_type": "code",
   "execution_count": null,
   "metadata": {},
   "outputs": [],
   "source": []
  },
  {
   "cell_type": "code",
   "execution_count": null,
   "metadata": {},
   "outputs": [],
   "source": []
  },
  {
   "cell_type": "code",
   "execution_count": null,
   "metadata": {},
   "outputs": [],
   "source": []
  },
  {
   "cell_type": "code",
   "execution_count": null,
   "metadata": {},
   "outputs": [],
   "source": []
  },
  {
   "cell_type": "code",
   "execution_count": null,
   "metadata": {},
   "outputs": [],
   "source": []
  }
 ],
 "metadata": {
  "kernelspec": {
   "display_name": "Python 3",
   "language": "python",
   "name": "python3"
  },
  "language_info": {
   "codemirror_mode": {
    "name": "ipython",
    "version": 3
   },
   "file_extension": ".py",
   "mimetype": "text/x-python",
   "name": "python",
   "nbconvert_exporter": "python",
   "pygments_lexer": "ipython3",
   "version": "3.7.3"
  }
 },
 "nbformat": 4,
 "nbformat_minor": 2
}
