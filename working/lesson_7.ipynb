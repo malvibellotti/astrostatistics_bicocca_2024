{
 "cells": [
  {
   "cell_type": "code",
   "execution_count": 37,
   "metadata": {},
   "outputs": [],
   "source": [
    "import matplotlib.pyplot as plt\n",
    "import numpy as np\n",
    "from astroML import stats as astroMLstats\n",
    "from sklearn.neighbors import KernelDensity\n",
    "\n"
   ]
  },
  {
   "cell_type": "code",
   "execution_count": 5,
   "metadata": {},
   "outputs": [],
   "source": [
    "mu = 1\n",
    "sigma = 0.02\n",
    "n_draws = 1000"
   ]
  },
  {
   "cell_type": "code",
   "execution_count": 23,
   "metadata": {},
   "outputs": [],
   "source": [
    "M = np.random.normal(mu, sigma, size = n_draws )\n",
    "chi = np.random.uniform(0,1, size = n_draws)\n",
    "M_irr = M * ((1+(1-chi**2)**0.5)/2)**0.5"
   ]
  },
  {
   "cell_type": "markdown",
   "metadata": {},
   "source": [
    "## binning with Freedman-Diaconis rule"
   ]
  },
  {
   "cell_type": "code",
   "execution_count": 32,
   "metadata": {},
   "outputs": [
    {
     "name": "stdout",
     "output_type": "stream",
     "text": [
      "1.047852300475048 0.7189982606697631\n"
     ]
    },
    {
     "data": {
      "text/plain": [
       "(array([0.30408628, 0.30408628, 0.42572079, 1.2163451 , 0.72980706,\n",
       "        1.27716236, 1.2163451 , 1.88533491, 2.00696942, 2.12860393,\n",
       "        2.49350746, 2.31105569, 3.58821805, 5.4127357 , 6.02090825,\n",
       "        9.42667453, 9.60912629, 6.50744629, 3.04086275, 0.91225883]),\n",
       " array([0.71899826, 0.73544096, 0.75188366, 0.76832637, 0.78476907,\n",
       "        0.80121177, 0.81765447, 0.83409717, 0.85053988, 0.86698258,\n",
       "        0.88342528, 0.89986798, 0.91631068, 0.93275339, 0.94919609,\n",
       "        0.96563879, 0.98208149, 0.99852419, 1.0149669 , 1.0314096 ,\n",
       "        1.0478523 ]),\n",
       " <BarContainer object of 20 artists>)"
      ]
     },
     "execution_count": 32,
     "metadata": {},
     "output_type": "execute_result"
    },
    {
     "data": {
      "image/png": "[encoded data removed]",
      "text/plain": [
       "<Figure size 432x288 with 1 Axes>"
      ]
     },
     "metadata": {
      "needs_background": "light"
     },
     "output_type": "display_data"
    }
   ],
   "source": [
    "sigmaG = astroMLstats.sigmaG(M_irr)\n",
    "binsize = 2.7*sigmaG/(n_draws**(1/3))\n",
    "#print(max(M_irr), min(M_irr))\n",
    "n_bins = int((max(M_irr)-min(M_irr))/binsize)\n",
    "\n",
    "plt.hist(M_irr, bins = n_bins, density = True)"
   ]
  },
  {
   "cell_type": "markdown",
   "metadata": {},
   "source": [
    "## binning with Scott's rule"
   ]
  },
  {
   "cell_type": "code",
   "execution_count": 36,
   "metadata": {},
   "outputs": [
    {
     "data": {
      "text/plain": [
       "(array([0.29800455, 0.29800455, 1.14944612, 0.93658573, 1.53259483,\n",
       "        1.87317145, 1.95831561, 2.46918055, 3.19290589, 4.98093319,\n",
       "        7.96097868, 9.53614559, 5.02350526, 1.36230651]),\n",
       " array([0.71899826, 0.74248783, 0.76597741, 0.78946698, 0.81295656,\n",
       "        0.83644613, 0.85993571, 0.88342528, 0.90691485, 0.93040443,\n",
       "        0.953894  , 0.97738358, 1.00087315, 1.02436273, 1.0478523 ]),\n",
       " <BarContainer object of 14 artists>)"
      ]
     },
     "execution_count": 36,
     "metadata": {},
     "output_type": "execute_result"
    },
    {
     "data": {
      "image/png": "[encoded data removed]",
      "text/plain": [
       "<Figure size 432x288 with 1 Axes>"
      ]
     },
     "metadata": {
      "needs_background": "light"
     },
     "output_type": "display_data"
    }
   ],
   "source": [
    "sigma = np.std(M_irr)\n",
    "binsize = 3.5*sigma/(n_draws**(1/3))\n",
    "#print(max(M_irr), min(M_irr))\n",
    "n_bins_scott = int((max(M_irr)-min(M_irr))/binsize)\n",
    "plt.hist(M_irr, bins = n_bins_scott, density = True)"
   ]
  },
  {
   "cell_type": "markdown",
   "metadata": {},
   "source": [
    "# now using KDE"
   ]
  },
  {
   "cell_type": "code",
   "execution_count": null,
   "metadata": {},
   "outputs": [],
   "source": [
    "xgrid = np.linspace(x.min(),x.max(),1000)  # Use this instead of 'x' for plotting\n",
    "\n",
    "def kde_sklearn(data, bandwidth = 1.0, kernel=\"linear\"):\n",
    "    kde_skl = KernelDensity(bandwidth = bandwidth, \n",
    "                            kernel=kernel)\n",
    "    kde_skl.fit(data[:, np.newaxis])\n",
    "    log_pdf = kde_skl.score_samples(xgrid[:, np.newaxis]) # sklearn returns log(density)\n",
    "\n",
    "    return np.exp(log_pdf)\n",
    "#questa copiataaaa, modificaaa"
   ]
  }
 ],
 "metadata": {
  "kernelspec": {
   "display_name": "Python 3",
   "language": "python",
   "name": "python3"
  },
  "language_info": {
   "codemirror_mode": {
    "name": "ipython",
    "version": 3
   },
   "file_extension": ".py",
   "mimetype": "text/x-python",
   "name": "python",
   "nbconvert_exporter": "python",
   "pygments_lexer": "ipython3",
   "version": "3.7.3"
  }
 },
 "nbformat": 4,
 "nbformat_minor": 2
}
