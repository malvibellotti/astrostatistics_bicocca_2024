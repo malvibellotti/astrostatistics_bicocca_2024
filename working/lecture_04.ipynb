{
 "cells": [
  {
   "cell_type": "code",
   "execution_count": 14,
   "metadata": {},
   "outputs": [],
   "source": [
    "#import sys\n",
    "#!{sys.executable} -m pip install astroML\n",
    "import numpy as np\n",
    "from matplotlib import pylab as plt\n",
    "import scipy.stats\n",
    "from astroML.datasets import fetch_dr7_quasar\n",
    "\n",
    "# Fetch the quasar data\n",
    "data = fetch_dr7_quasar()\n",
    "\n",
    "# select the first 10000 points\n",
    "data = data[:10000]\n",
    "\n",
    "z = data['redshift']"
   ]
  },
  {
   "cell_type": "code",
   "execution_count": 19,
   "metadata": {},
   "outputs": [
    {
     "data": {
      "image/png": "[encoded data removed]",
      "text/plain": [
       "<Figure size 432x288 with 1 Axes>"
      ]
     },
     "metadata": {
      "needs_background": "light"
     },
     "output_type": "display_data"
    },
    {
     "data": {
      "text/plain": [
       "(array([0.00750005, 0.03000019, 0.06750042, 0.08437555, 0.14812589,\n",
       "        0.2756268 , 0.28312669, 0.30375182, 0.28875189, 0.33000216,\n",
       "        0.38812754, 0.3318768 , 0.37500245, 0.37687747, 0.34875228,\n",
       "        0.34125223, 0.41062723, 0.49687881, 0.46687753, 0.42000228,\n",
       "        0.49687881, 0.54937798, 0.56812808, 0.57187938, 0.55500301,\n",
       "        0.48937875, 0.53250289, 0.62250338, 0.55875428, 0.57000309,\n",
       "        0.51937898, 0.53250289, 0.4968777 , 0.53625411, 0.39562715,\n",
       "        0.31500241, 0.38062706, 0.34125185, 0.35437692, 0.31875173,\n",
       "        0.29625293, 0.2400013 , 0.21375116, 0.23437627, 0.183751  ,\n",
       "        0.20812706, 0.16125087, 0.14625079, 0.14062576, 0.15375083,\n",
       "        0.14062639, 0.10500057, 0.10500057, 0.09000049, 0.07125039,\n",
       "        0.07687576, 0.06750037, 0.05812532, 0.06375035, 0.05437529,\n",
       "        0.04687546, 0.0375002 , 0.02250012, 0.02437513, 0.02437513,\n",
       "        0.01687509, 0.03187532, 0.02812515, 0.03375018, 0.0187501 ,\n",
       "        0.01500008, 0.00187502, 0.03187517, 0.01125011, 0.01687502,\n",
       "        0.00562506, 0.02437502, 0.01312513, 0.00562501, 0.00937509,\n",
       "        0.        , 0.001875  , 0.00750007, 0.001875  , 0.00187502,\n",
       "        0.00187502, 0.        , 0.00937509, 0.        , 0.00187502,\n",
       "        0.        , 0.00375   , 0.00562506, 0.001875  , 0.        ,\n",
       "        0.        , 0.        , 0.        , 0.        , 0.00187502]),\n",
       " array([0.0802    , 0.133533  , 0.186866  , 0.240199  , 0.29353198,\n",
       "        0.346865  , 0.40019798, 0.453531  , 0.506864  , 0.560197  ,\n",
       "        0.61353   , 0.66686296, 0.720196  , 0.773529  , 0.826862  ,\n",
       "        0.88019496, 0.93352795, 0.986861  , 1.0401939 , 1.093527  ,\n",
       "        1.14686   , 1.2001929 , 1.253526  , 1.306859  , 1.360192  ,\n",
       "        1.413525  , 1.4668579 , 1.520191  , 1.573524  , 1.6268569 ,\n",
       "        1.68019   , 1.7335229 , 1.7868559 , 1.840189  , 1.8935219 ,\n",
       "        1.946855  , 2.0001879 , 2.053521  , 2.106854  , 2.160187  ,\n",
       "        2.21352   , 2.2668529 , 2.320186  , 2.373519  , 2.426852  ,\n",
       "        2.480185  , 2.5335178 , 2.586851  , 2.640184  , 2.693517  ,\n",
       "        2.74685   , 2.8001828 , 2.8535159 , 2.906849  , 2.960182  ,\n",
       "        3.013515  , 3.0668478 , 3.1201808 , 3.173514  , 3.226847  ,\n",
       "        3.28018   , 3.3335128 , 3.3868458 , 3.4401789 , 3.493512  ,\n",
       "        3.546845  , 3.600178  , 3.6535108 , 3.7068439 , 3.760177  ,\n",
       "        3.81351   , 3.866843  , 3.9201758 , 3.9735088 , 4.0268416 ,\n",
       "        4.080175  , 4.1335077 , 4.186841  , 4.240174  , 4.293507  ,\n",
       "        4.34684   , 4.4001727 , 4.453506  , 4.506839  , 4.560172  ,\n",
       "        4.613505  , 4.6668377 , 4.720171  , 4.773504  , 4.826837  ,\n",
       "        4.88017   , 4.9335027 , 4.986836  , 5.040169  , 5.093502  ,\n",
       "        5.146835  , 5.2001677 , 5.253501  , 5.3068337 , 5.360167  ,\n",
       "        5.4135    ], dtype=float32),\n",
       " <BarContainer object of 100 artists>)"
      ]
     },
     "execution_count": 19,
     "metadata": {},
     "output_type": "execute_result"
    }
   ],
   "source": [
    "n_bins = 100\n",
    "values = plt.hist(z, n_bins, density = True)\n",
    "plt.show()"
   ]
  },
  {
   "cell_type": "markdown",
   "metadata": {},
   "source": [
    "# now we want to upsample this distribution in two ways:\n",
    "## try and catch\n",
    "## inverse transform"
   ]
  },
  {
   "cell_type": "code",
   "execution_count": 20,
   "metadata": {},
   "outputs": [
    {
     "data": {
      "text/plain": [
       "array([0.00750005, 0.03000019, 0.06750042, 0.08437555, 0.14812589,\n",
       "       0.2756268 , 0.28312669, 0.30375182, 0.28875189, 0.33000216,\n",
       "       0.38812754, 0.3318768 , 0.37500245, 0.37687747, 0.34875228,\n",
       "       0.34125223, 0.41062723, 0.49687881, 0.46687753, 0.42000228,\n",
       "       0.49687881, 0.54937798, 0.56812808, 0.57187938, 0.55500301,\n",
       "       0.48937875, 0.53250289, 0.62250338, 0.55875428, 0.57000309,\n",
       "       0.51937898, 0.53250289, 0.4968777 , 0.53625411, 0.39562715,\n",
       "       0.31500241, 0.38062706, 0.34125185, 0.35437692, 0.31875173,\n",
       "       0.29625293, 0.2400013 , 0.21375116, 0.23437627, 0.183751  ,\n",
       "       0.20812706, 0.16125087, 0.14625079, 0.14062576, 0.15375083,\n",
       "       0.14062639, 0.10500057, 0.10500057, 0.09000049, 0.07125039,\n",
       "       0.07687576, 0.06750037, 0.05812532, 0.06375035, 0.05437529,\n",
       "       0.04687546, 0.0375002 , 0.02250012, 0.02437513, 0.02437513,\n",
       "       0.01687509, 0.03187532, 0.02812515, 0.03375018, 0.0187501 ,\n",
       "       0.01500008, 0.00187502, 0.03187517, 0.01125011, 0.01687502,\n",
       "       0.00562506, 0.02437502, 0.01312513, 0.00562501, 0.00937509,\n",
       "       0.        , 0.001875  , 0.00750007, 0.001875  , 0.00187502,\n",
       "       0.00187502, 0.        , 0.00937509, 0.        , 0.00187502,\n",
       "       0.        , 0.00375   , 0.00562506, 0.001875  , 0.        ,\n",
       "       0.        , 0.        , 0.        , 0.        , 0.00187502])"
      ]
     },
     "execution_count": 20,
     "metadata": {},
     "output_type": "execute_result"
    }
   ],
   "source": [
    "values[0]"
   ]
  },
  {
   "cell_type": "code",
   "execution_count": null,
   "metadata": {},
   "outputs": [],
   "source": []
  },
  {
   "cell_type": "code",
   "execution_count": 26,
   "metadata": {},
   "outputs": [],
   "source": [
    "#try and catch\n",
    "x = values[1]\n",
    "y = values[2] #give me x and y   or maybe #rv_histogram(histogram, *args[, density])\n",
    "x_min = min(values[1])\n",
    "x_max = max(values[1])\n",
    "y_min = min(values[0])\n",
    "y_max = max(values[0])\n",
    "\n",
    "x_i = np.random.uniform(x_min, x_max, 10000)\n",
    "y_i = np.random.uniform(y_min, y_max, 10000)\n",
    "\n",
    "for i in range(nbins):\n",
    "    if (x_i < x[i] & x_i > x[i+1]): # y_i deve essere minore di y\n",
    "        \n",
    "    \n",
    "\n",
    "x_i[]\n",
    "\n",
    "#print(x_min)\n",
    "\n"
   ]
  },
  {
   "cell_type": "code",
   "execution_count": null,
   "metadata": {},
   "outputs": [],
   "source": []
  },
  {
   "cell_type": "code",
   "execution_count": null,
   "metadata": {},
   "outputs": [],
   "source": []
  },
  {
   "cell_type": "code",
   "execution_count": null,
   "metadata": {},
   "outputs": [],
   "source": []
  },
  {
   "cell_type": "code",
   "execution_count": null,
   "metadata": {},
   "outputs": [],
   "source": []
  }
 ],
 "metadata": {
  "kernelspec": {
   "display_name": "Python 3",
   "language": "python",
   "name": "python3"
  },
  "language_info": {
   "codemirror_mode": {
    "name": "ipython",
    "version": 3
   },
   "file_extension": ".py",
   "mimetype": "text/x-python",
   "name": "python",
   "nbconvert_exporter": "python",
   "pygments_lexer": "ipython3",
   "version": "3.7.3"
  }
 },
 "nbformat": 4,
 "nbformat_minor": 2
}
