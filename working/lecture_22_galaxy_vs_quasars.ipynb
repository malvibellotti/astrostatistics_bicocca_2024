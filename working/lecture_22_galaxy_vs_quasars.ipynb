{
 "cells": [
  {
   "cell_type": "code",
   "execution_count": 12,
   "id": "6acd125e-8ade-4fcb-b6c2-aa5e392b0b08",
   "metadata": {},
   "outputs": [],
   "source": [
    " #!pip install --upgrade pip\n",
    " #!pip3 install tensorflow\n",
    " #!pip3 install torch torchvision"
   ]
  },
  {
   "cell_type": "code",
   "execution_count": null,
   "id": "3d52f09d-8cbf-4de9-871b-e7b18e458930",
   "metadata": {},
   "outputs": [],
   "source": [
    "import setuptools.dist\n",
    "import tensorflow as tf\n",
    "#import  torch, torchvision"
   ]
  },
  {
   "cell_type": "code",
   "execution_count": null,
   "id": "6ea5362a",
   "metadata": {},
   "outputs": [],
   "source": []
  }
 ],
 "metadata": {
  "kernelspec": {
   "display_name": "venv",
   "language": "python",
   "name": "python3"
  },
  "language_info": {
   "codemirror_mode": {
    "name": "ipython",
    "version": 3
   },
   "file_extension": ".py",
   "mimetype": "text/x-python",
   "name": "python",
   "nbconvert_exporter": "python",
   "pygments_lexer": "ipython3",
   "version": "3.12.3"
  }
 },
 "nbformat": 4,
 "nbformat_minor": 5
}
