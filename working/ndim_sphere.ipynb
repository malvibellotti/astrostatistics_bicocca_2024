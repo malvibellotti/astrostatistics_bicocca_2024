{
 "cells": [
  {
   "cell_type": "markdown",
   "metadata": {},
   "source": [
    "# N dimentional sphere volume\n",
    "\n",
    "\n"
   ]
  },
  {
   "cell_type": "markdown",
   "metadata": {},
   "source": [
    "## GEROSA'S CODE:"
   ]
  },
  {
   "cell_type": "code",
   "execution_count": 1,
   "metadata": {},
   "outputs": [
    {
     "name": "stdout",
     "output_type": "stream",
     "text": [
      "D=2\tN=10000000\tN_in=7855865\tV=3.14235\t\tSol=3.14159\t\tdiff=0.00024\tt=0.95s\n",
      "D=3\tN=10000000\tN_in=5234390\tV=4.18751\t\tSol=4.18879\t\tdiff=0.00031\tt=1.14s\n",
      "D=4\tN=10000000\tN_in=3082888\tV=4.93262\t\tSol=4.93480\t\tdiff=0.00044\tt=1.24s\n",
      "D=5\tN=10000000\tN_in=1644703\tV=5.26305\t\tSol=5.26379\t\tdiff=0.00014\tt=1.24s\n",
      "D=6\tN=10000000\tN_in=807276\tV=5.16657\t\tSol=5.16771\t\tdiff=0.00022\tt=1.51s\n",
      "D=7\tN=10000000\tN_in=369861\tV=4.73422\t\tSol=4.72477\t\tdiff=0.00200\tt=1.64s\n",
      "D=8\tN=10000000\tN_in=158655\tV=4.06157\t\tSol=4.05871\t\tdiff=0.00070\tt=1.91s\n",
      "D=9\tN=10000000\tN_in=064542\tV=3.30455\t\tSol=3.29851\t\tdiff=0.00183\tt=1.93s\n",
      "D=10\tN=10000000\tN_in=025117\tV=2.57198\t\tSol=2.55016\t\tdiff=0.00856\tt=2.16s\n",
      "D=11\tN=10000000\tN_in=009306\tV=1.90587\t\tSol=1.88410\t\tdiff=0.01155\tt=2.20s\n",
      "D=12\tN=10000000\tN_in=003271\tV=1.33980\t\tSol=1.33526\t\tdiff=0.00340\tt=2.65s\n",
      "D=13\tN=10000000\tN_in=001155\tV=0.94618\t\tSol=0.91063\t\tdiff=0.03904\tt=2.36s\n",
      "D=14\tN=10000000\tN_in=000378\tV=0.61932\t\tSol=0.59926\t\tdiff=0.03346\tt=2.58s\n",
      "D=15\tN=10000000\tN_in=000120\tV=0.39322\t\tSol=0.38144\t\tdiff=0.03086\tt=2.55s\n",
      "D=16\tN=10000000\tN_in=000031\tV=0.20316\t\tSol=0.23533\t\tdiff=0.13670\tt=2.93s\n",
      "D=17\tN=10000000\tN_in=000013\tV=0.17039\t\tSol=0.14098\t\tdiff=0.20863\tt=3.42s\n",
      "D=18\tN=10000000\tN_in=000007\tV=0.18350\t\tSol=0.08215\t\tdiff=1.23384\tt=3.43s\n",
      "D=19\tN=10000000\tN_in=000000\tV=0.00000\t\tSol=0.04662\t\tdiff=1.00000\tt=3.14s\n",
      "D=20\tN=10000000\tN_in=000000\tV=0.00000\t\tSol=0.02581\t\tdiff=1.00000\tt=4.03s\n"
     ]
    }
   ],
   "source": [
    "'''\n",
    "Calculate the volume of the n-dimensional spehere a function of the dimension using a simple hit-or-miss Monte Carlo.\n",
    "'''\n",
    "\n",
    "from __future__ import print_function, division\n",
    "import numpy as np\n",
    "import scipy.special\n",
    "import pylab as plt\n",
    "import time\n",
    "\n",
    "Dmax = 30 # Largest dimension\n",
    "N = int(1e7) # Monte Carlo samples\n",
    "\n",
    "data = []\n",
    "\n",
    "for D in np.arange(2,Dmax+1): # Loop\n",
    "    t0=time.time()\n",
    "\n",
    "    all = np.random.uniform(-1,1, D*N).reshape(N,D) # Generate points in cube\n",
    "\n",
    "    distance = np.sum(all**2,axis=1)**0.5 # Distance from cube center\n",
    "\n",
    "    Ninside = np.sum(distance<=1) # Number of points within sphere\n",
    "    fractioninside = Ninside/N # Fraction of points within sphere\n",
    "    cube = 2**D # Volume of the cube (from -1 to 1)\n",
    "    sphere = fractioninside * cube # Volume of the sphere\n",
    "\n",
    "    solution = np.pi**(D/2) / scipy.special.gamma( D/2 + 1) # True value\n",
    "    diff= np.abs(sphere-solution)/solution # Error\n",
    "\n",
    "    t=time.time()-t0\n",
    "    print(\"D=%i\\tN=%i\\tN_in=%06d\\tV=%.5f\\t\\tSol=%.5f\\t\\tdiff=%.5f\\tt=%.2fs\" %(D,N,Ninside,sphere,solution,diff,t))\n",
    "\n",
    "    data.append([D,sphere,solution,diff]) # Store data\n",
    "\n",
    "\n",
    "# Plots...\n",
    "dims, my,true,errors = np.array(data).T\n",
    "fig, axs= plt.subplots(2, 1,figsize=(5,10))\n",
    "axs[0].plot(dims,my,label='my',ls='-',marker='x')\n",
    "axs[0].plot(dims,true,label='true',ls='-')\n",
    "axs[1].plot(dims,errors,label='errors')\n",
    "[ax.legend() for ax in axs]\n",
    "plt.show()"
   ]
  }
 ],
 "metadata": {
  "kernelspec": {
   "display_name": "venv",
   "language": "python",
   "name": "venv"
  },
  "language_info": {
   "codemirror_mode": {
    "name": "ipython",
    "version": 3
   },
   "file_extension": ".py",
   "mimetype": "text/x-python",
   "name": "python",
   "nbconvert_exporter": "python",
   "pygments_lexer": "ipython3",
   "version": "3.11.6"
  }
 },
 "nbformat": 4,
 "nbformat_minor": 2
}
