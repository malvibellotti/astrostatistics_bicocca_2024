{
 "cells": [
  {
   "cell_type": "code",
   "execution_count": 1,
   "metadata": {},
   "outputs": [],
   "source": [
    "import matplotlib.pyplot as plt\n",
    "import numpy as np\n",
    "from astroML import stats as astroMLstats\n",
    "from sklearn.neighbors import KernelDensity\n",
    "\n"
   ]
  },
  {
   "cell_type": "code",
   "execution_count": 4,
   "metadata": {},
   "outputs": [],
   "source": [
    "sunny = 1\n",
    "cloudy = 0\n",
    "N = 10**4"
   ]
  },
  {
   "cell_type": "markdown",
   "metadata": {},
   "source": [
    "\n",
    "$$p({\\rm clear \\; tomorrow} \\, |\\,  {\\rm cloudy \\; today}) = 0.5,$$\n",
    "\n",
    "\n",
    "$$p({\\rm cloudy \\; tomorrow} \\, |\\, {\\rm cloudy \\; today}) = 0.5.$$\n",
    "\n",
    "\n",
    "$$p({\\rm cloudy \\; tomorrow} \\, |\\, {\\rm clear \\; today}) = 0.1,$$\n",
    "\n",
    "\n",
    "$$p({\\rm clear \\; tomorrow} \\, |\\, {\\rm clear \\; today}) = 0.9.$$\n",
    "\n"
   ]
  },
  {
   "cell_type": "code",
   "execution_count": 5,
   "metadata": {},
   "outputs": [],
   "source": [
    "def weather_forecast (weather):\n",
    "    if (weather_current == sunny):\n",
    "        p_cloudy = 0.1\n",
    "        p_sunny = 0.9\n",
    "    else :\n",
    "        p_cloudy = 0.5\n",
    "        p_sunny = 0.5\n",
    "    return p_sunny\n",
    "\n",
    "\n",
    "def probability (weather):\n",
    "    prob = random.uniform(0, 1, 1)\n",
    "    \n",
    "    if (prob < weather_forecast(weather)):\n",
    "        chain.append\n"
   ]
  },
  {
   "cell_type": "code",
   "execution_count": 7,
   "metadata": {},
   "outputs": [],
   "source": [
    "weather_current = sunny\n",
    "\n",
    "for i in N:\n",
    "    proposal = np.random.choice([0,1])\n",
    "    \n",
    "\n",
    "    prob_current = weather_forecast(weather_current)\n",
    "    prob_proposal = weather_forecast(weather_proposal)\n",
    "    \n",
    "    \n",
    "    p_accept = p_proposal / p_current\n",
    "        \n",
    "\n",
    "    accept = np.random.rand() < p_accept\n",
    "\n",
    "    if plot:\n",
    "        plot_proposal(mu_current, mu_proposal, mu_prior_mu, \n",
    "                      mu_prior_sd, data, accept, posterior, i)\n",
    "\n",
    "    if accept:\n",
    "        # Update position\n",
    "        mu_current = mu_proposal\n",
    "\n",
    "    posterior.append(mu_current)  #add again the same point\n",
    "        "
   ]
  },
  {
   "cell_type": "code",
   "execution_count": null,
   "metadata": {},
   "outputs": [],
   "source": []
  }
 ],
 "metadata": {
  "kernelspec": {
   "display_name": "Python 3",
   "language": "python",
   "name": "python3"
  },
  "language_info": {
   "codemirror_mode": {
    "name": "ipython",
    "version": 3
   },
   "file_extension": ".py",
   "mimetype": "text/x-python",
   "name": "python",
   "nbconvert_exporter": "python",
   "pygments_lexer": "ipython3",
   "version": "3.7.3"
  }
 },
 "nbformat": 4,
 "nbformat_minor": 2
}
