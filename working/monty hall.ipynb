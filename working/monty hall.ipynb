{
 "cells": [
  {
   "cell_type": "markdown",
   "metadata": {},
   "source": [
    "# exercise 1: Monty Hall problem"
   ]
  },
  {
   "cell_type": "code",
   "execution_count": 3,
   "metadata": {},
   "outputs": [],
   "source": [
    "import numpy as np\n",
    "import matplotlib"
   ]
  },
  {
   "cell_type": "code",
   "execution_count": 138,
   "metadata": {},
   "outputs": [
    {
     "name": "stdout",
     "output_type": "stream",
     "text": [
      "['1.0' '1.0' 'car']\n",
      "2\n",
      "range(0, 3)\n",
      "[0 1 2]\n"
     ]
    }
   ],
   "source": [
    "N_simulations = 100000\n",
    "n = np.linspace(1, N_simulations, N_simulations)\n",
    "n_goats = 2\n",
    "\n",
    "#I HAVE TO ADD MORE CARS NOW\n",
    "\n",
    "doors = np.append( np.ones(n_goats),[\"car\"])\n",
    "\n",
    "print(doors)\n",
    "\n",
    "indexes = np.array(range(len(doors)))\n",
    "\n",
    "player = np.random.choice(indexes)\n",
    "print (player)\n",
    "print ( range(len(doors)))\n",
    "print(indexes)\n",
    "#p_win = np."
   ]
  },
  {
   "cell_type": "code",
   "execution_count": 135,
   "metadata": {},
   "outputs": [
    {
     "name": "stdout",
     "output_type": "stream",
     "text": [
      "[ 0  1  2  3  4  5  6  7  8  9 10 11 12 13 14 15 16 17 18 19 20 21 22 23\n",
      " 24 25 26 27 28 29 30 31 32 33 34 35 36 37 38 39 40 41 42 43 44 45 46 47\n",
      " 49]\n"
     ]
    }
   ],
   "source": [
    "#indexes[indexes != 2]\n",
    "print( indexes[((indexes != player) & (indexes != len(doors)-1))] )"
   ]
  },
  {
   "cell_type": "code",
   "execution_count": 139,
   "metadata": {},
   "outputs": [
    {
     "name": "stdout",
     "output_type": "stream",
     "text": [
      "1 66894 33106 49874\n"
     ]
    }
   ],
   "source": [
    "switcher_counter = 0\n",
    "conservative_counter = 0\n",
    "newcomer_counter = 0\n",
    "\n",
    "for i in n:\n",
    "    player = np.random.choice(indexes)\n",
    "\n",
    "    presenter = np.random.choice( (indexes[ ( (indexes != player) & (indexes != len(doors)-1) ) ]) )\n",
    "\n",
    "    conservative = player\n",
    "    switcher = np.random.choice( (indexes[ ( (indexes != player) & (indexes != presenter) ) ]) )\n",
    "    newcomer = np.random.choice( (indexes[(indexes != presenter)]) )\n",
    "    \n",
    "    if switcher == len(doors)-1:\n",
    "        switcher_counter = switcher_counter + 1\n",
    "    if conservative == len(doors)-1:\n",
    "        conservative_counter = conservative_counter + 1\n",
    "    if newcomer == len(doors)-1:\n",
    "        newcomer_counter = newcomer_counter + 1\n",
    "\n",
    "print (presenter, switcher_counter, conservative_counter, newcomer_counter)\n"
   ]
  },
  {
   "cell_type": "code",
   "execution_count": 140,
   "metadata": {},
   "outputs": [
    {
     "name": "stdout",
     "output_type": "stream",
     "text": [
      "switcher probability to win the car: 66.894 % \n",
      " conservative probability to win the car: 33.106 % \n",
      " newcomer probability to win the car: 49.874 %\n"
     ]
    }
   ],
   "source": [
    "print (\"switcher probability to win the car:\", (100*switcher_counter/N_simulations), \"% \\n\",\n",
    "       \"conservative probability to win the car:\", 100*conservative_counter/N_simulations, \"% \\n\",\n",
    "       \"newcomer probability to win the car:\", 100*newcomer_counter/N_simulations, \"%\" )"
   ]
  },
  {
   "cell_type": "code",
   "execution_count": null,
   "metadata": {},
   "outputs": [],
   "source": []
  },
  {
   "cell_type": "code",
   "execution_count": null,
   "metadata": {},
   "outputs": [],
   "source": []
  }
 ],
 "metadata": {
  "kernelspec": {
   "display_name": "Python 3",
   "language": "python",
   "name": "python3"
  },
  "language_info": {
   "codemirror_mode": {
    "name": "ipython",
    "version": 3
   },
   "file_extension": ".py",
   "mimetype": "text/x-python",
   "name": "python",
   "nbconvert_exporter": "python",
   "pygments_lexer": "ipython3",
   "version": "3.7.3"
  }
 },
 "nbformat": 4,
 "nbformat_minor": 2
}
